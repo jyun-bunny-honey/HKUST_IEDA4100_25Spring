{
 "cells": [
  {
   "cell_type": "markdown",
   "id": "62bdf9f6",
   "metadata": {},
   "source": [
    "### Getting ready for tutorial!"
   ]
  },
  {
   "cell_type": "markdown",
   "id": "83138efe",
   "metadata": {},
   "source": [
    "In this tutorial, you are going to\n",
    "\n",
    "1. install Miniconda (with python),\n",
    "2. create your working environment,\n",
    "3. install Jupyter Notebook (an intepretor/interface for more organised outputs),\n",
    "4. test and learn to install packages.\n",
    "\n",
    "The main goal is to set up the Python coding environment for your future usage. In tutorials, the implementation of algorithms (for this course, the main focus will be regression and linear programming) will be demonstrated using Python codes. However, the general idea can be transferred to other computing tools. Please feel free to use any other computational tools (Excel, R, MatLab, ...) other than Python to fulfill your need. "
   ]
  },
  {
   "cell_type": "markdown",
   "id": "c5a17cab",
   "metadata": {},
   "source": [
    "### 1. Install Miniconda (with python)"
   ]
  },
  {
   "cell_type": "markdown",
   "id": "3a266447",
   "metadata": {},
   "source": [
    "Miniconda is a light version of Anaconda to manage Python packages. Install the latest Miniconda from: https://docs.conda.io/en/latest/miniconda.html (choose one under \"Latest Miniconda Installer Links\" according to your operating system). These Miniconda installers contain the conda package manager and Python (no need to install Python separately).\n",
    "\n",
    "After installation, run \"Anaconda Prompt\" (can be found by directly searching this application).\n",
    "\n",
    "You should see\n",
    "\n",
    "    (base) C:\\Users\\YourName>\n",
    "    \n",
    "Well done! You can also type\n",
    "    \n",
    "    (base) C:\\Users\\YourName>conda --version\n",
    "    (base) C:\\Users\\YourName>python --version\n",
    "    \n",
    "to check your anaconda version and python version. The version could be important as some Python packages could have compatibility issues."
   ]
  },
  {
   "cell_type": "markdown",
   "id": "568e2d91",
   "metadata": {},
   "source": [
    "### 2. Create your working environment"
   ]
  },
  {
   "cell_type": "markdown",
   "id": "a96d6717",
   "metadata": {},
   "source": [
    "Miniconda can help your manage python packages. You can create different virtual environments for different use. It seems an unnecessary step at first, but it is a good habit to work under a \"separated\" environment to avoid messing up with the \"base\" environment.\n",
    "\n",
    "Try to create a new environment by\n",
    "\n",
    "    (base) C:\\Users\\YourName>conda create -n env_tutorial\n",
    "    \n",
    "You can activate the environment or deactivate it by\n",
    "\n",
    "    (base) C:\\Users\\YourName>conda activate env_tutorial\n",
    "    (env_tutorial) C:\\Users\\YourName>conda deactivate\n",
    "   "
   ]
  },
  {
   "cell_type": "markdown",
   "id": "e6e46314",
   "metadata": {},
   "source": [
    "### 3. Install Jupyter Notebook"
   ]
  },
  {
   "cell_type": "markdown",
   "id": "4e8711c5",
   "metadata": {},
   "source": [
    "Before installing Jupyter, we first create a \"link\" between the virtual environment and the Jupyter Notebook. First, install a new package \"ipykernel\" under the new environment:\n",
    "\n",
    "    (env_tutorial) C:\\Users\\YourName>conda install ipykernel\n",
    "    \n",
    "After installation, type following command to link the current environment to Jupyter Notebook:\n",
    "\n",
    "    (env_tutorial) C:\\Users\\YourName>ipython kernel install --user --name=env_tutorial\n",
    "\n",
    "The reason we need this link is that it is perferrable to install Jupyter in the system (the \"base\" environment), such that it can be used for all environments. The \"kernel\" installed inside the virtual environment \"env_tutorial\" is enough for running python.\n",
    "\n",
    "Now, check back to the base by deactivating and install Jupyter Notebook:\n",
    "\n",
    "    (env_tutorial) C:\\Users\\YourName>conda deactivate\n",
    "    (base) C:\\Users\\YourName>conda install jupyter\n",
    "    (base) C:\\Users\\YourName>jupyter notebook\n",
    "    \n",
    "The last command opens the Jupyter Notebook in your browser as follows! Navigate to a proper folder and create your new notebook file by: New -> env_tutorial."
   ]
  },
  {
   "cell_type": "markdown",
   "id": "3a537724",
   "metadata": {},
   "source": [
    "![alt text](https://github.com/jyun-bunny-honey/HKUST_IEDA4100_25Spring/blob/main/jupyter.PNG?raw=true)"
   ]
  },
  {
   "cell_type": "markdown",
   "id": "52a6c1db",
   "metadata": {},
   "source": [
    "###  4. Test and learn to install packages"
   ]
  },
  {
   "cell_type": "markdown",
   "id": "4122d540",
   "metadata": {},
   "source": [
    "In your new notebook file, try to test following commands.\n",
    "\n",
    "A command can be a function to return the results based on your input parameter(s): \n",
    "\n",
    "    function_name(input)\n",
    " \n",
    "For example,"
   ]
  },
  {
   "cell_type": "code",
   "execution_count": 1,
   "id": "f13c1136",
   "metadata": {},
   "outputs": [
    {
     "name": "stdout",
     "output_type": "stream",
     "text": [
      "Hello, world\n"
     ]
    }
   ],
   "source": [
    "print(\"Hello, world\") # print() is useful function for printing out outputs."
   ]
  },
  {
   "cell_type": "markdown",
   "id": "5b3e4896",
   "metadata": {},
   "source": [
    "Some functions are integrated into one package and need to be imported before using. Python packages are powerful tools, which are similar to your calculator with many pre-built functions. \n",
    "\n",
    "For example,"
   ]
  },
  {
   "cell_type": "code",
   "execution_count": 2,
   "id": "2ba19f0e",
   "metadata": {},
   "outputs": [
    {
     "name": "stdout",
     "output_type": "stream",
     "text": [
      "1.4142135623730951\n"
     ]
    }
   ],
   "source": [
    "import math as m # import package_name as nick_name allows you to import packages\n",
    "print(m.sqrt(2)) # package_name or nick_name.function allows you to use functions from this package"
   ]
  },
  {
   "cell_type": "code",
   "execution_count": 3,
   "id": "c2adb896",
   "metadata": {},
   "outputs": [],
   "source": [
    "import matplotlib as plt # Does this line throw an error?"
   ]
  },
  {
   "cell_type": "markdown",
   "id": "9d9cbee8",
   "metadata": {},
   "source": [
    "Some packages need to installed before using. Python packages are not all installed with Python itself. For example, package \"math\" is coming with Python while \"matplotlib\" is not. If we want to use this package, we need to install it first. Save and close your notebook, then quit the Jupyter Notebook.\n",
    "\n",
    "Back to Anaconda Prompt, activate your virtual environment:\n",
    "\n",
    "    (base) C:\\Users\\YourName>conda activate env_tutorial\n",
    "    \n",
    "Install the new package by \n",
    "\n",
    "    (env_tutorial) C:\\Users\\YourName>conda install matplotlib\n",
    "\n",
    "Back to the base environment and open Jupyter Notebook by\n",
    "\n",
    "    (env_tutorial) C:\\Users\\YourName>conda deactivate\n",
    "    (base) C:\\Users\\YourName>jupyter notebook\n",
    "    \n",
    "Open your saved file and try running the following code. "
   ]
  },
  {
   "cell_type": "code",
   "execution_count": 8,
   "id": "4631a1b5",
   "metadata": {},
   "outputs": [
    {
     "data": {
      "image/png": "[encoded data removed]",
      "text/plain": [
       "<Figure size 432x288 with 1 Axes>"
      ]
     },
     "metadata": {
      "needs_background": "light"
     },
     "output_type": "display_data"
    }
   ],
   "source": [
    "import matplotlib.pyplot as plt\n",
    "# make data\n",
    "x = [1,2,3]\n",
    "y = [1,2,3]\n",
    "\n",
    "# plot\n",
    "plt.title(\"Matplotlib demo\") \n",
    "plt.xlabel(\"x axis caption\") \n",
    "plt.ylabel(\"y axis caption\") \n",
    "plt.plot(x,y) \n",
    "plt.show()"
   ]
  },
  {
   "cell_type": "markdown",
   "id": "51cd4b89",
   "metadata": {},
   "source": [
    "\"matplotlib\" is a commly-used plotting library for python. Besides, you are also recommended to install \"numpy\" (an strong mathmetical library) and \"pandas\" (an advanced library for data analysis).\n",
    "\n",
    "You can install packages needed in the conda prompt by\n",
    "\n",
    "    (env_tutorial) C:\\Users\\YourName>conda install \"package_name\"\n",
    "    \n",
    "You can check all installed packages by \n",
    "\n",
    "    (env_tutorial) C:\\Users\\YourName>conda list"
   ]
  },
  {
   "cell_type": "markdown",
   "id": "b11558cb",
   "metadata": {},
   "source": [
    "### Well done!"
   ]
  },
  {
   "cell_type": "markdown",
   "id": "446ab7ef",
   "metadata": {},
   "source": [
    "Feel free to explore any functions/tools you like! :)\n",
    "\n",
    "Some beginners' guides:\n",
    "\n",
    "A Beginner’s Tutorial on Jupyter Notebook: https://www.dataquest.io/blog/jupyter-notebook-tutorial/\n",
    "\n",
    "Getting to know variables in Python: https://www.w3schools.com/python/python_variables.asp\n",
    "\n",
    "Basic plotting examples: https://matplotlib.org/stable/plot_types/index.html"
   ]
  },
  {
   "cell_type": "markdown",
   "id": "e70a3037",
   "metadata": {},
   "source": []
  }
 ],
 "metadata": {
  "kernelspec": {
   "display_name": "env_tutorial",
   "language": "python",
   "name": "env_tutorial"
  },
  "language_info": {
   "codemirror_mode": {
    "name": "ipython",
    "version": 3
   },
   "file_extension": ".py",
   "mimetype": "text/x-python",
   "name": "python",
   "nbconvert_exporter": "python",
   "pygments_lexer": "ipython3",
   "version": "3.10.4"
  }
 },
 "nbformat": 4,
 "nbformat_minor": 5
}
